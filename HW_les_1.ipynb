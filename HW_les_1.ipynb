{
 "cells": [
  {
   "cell_type": "code",
   "execution_count": 38,
   "metadata": {},
   "outputs": [],
   "source": [
    "import matplotlib\n",
    "import numpy as np\n",
    "import matplotlib.pyplot as plt\n",
    "%matplotlib inline"
   ]
  },
  {
   "cell_type": "markdown",
   "metadata": {},
   "source": [
    "# Урок 1. Алгоритм линейной регрессии. Градиентный спуск."
   ]
  },
  {
   "cell_type": "markdown",
   "metadata": {},
   "source": [
    "### Реализовать оптимизацию методом градиентного спуска для x^2(np.sin(0,5_x)^2+1). Какие параметры шага и количества итераций оптимальны? При каких значениях шага оптимизиция не выходит из локальных минимумов? Подробные условия смотрите в .ipynb файле, приложенном к материалам."
   ]
  },
  {
   "cell_type": "code",
   "execution_count": 64,
   "metadata": {},
   "outputs": [],
   "source": [
    "x = np.linspace(-20, 20, 1000)\n",
    "def func2(_x): return (_x**2)*(np.sin(0.5*_x)**2+1)\n",
    "def grad2(_x): return 2*_x*(np.sin(0.5*_x)**2+1)+(_x**2)*(np.sin(0.5*_x))*(np.cos(0.5*_x))"
   ]
  },
  {
   "cell_type": "code",
   "execution_count": 65,
   "metadata": {},
   "outputs": [],
   "source": [
    "def calculate_grad(func, x0, delta=0.01): return (func(x0+delta)-func(x0))/delta\n",
    "def calculate_grad2(func, x0, delta=0.01): return (func(x0+delta)-func(x0-delta))/(2*delta)"
   ]
  },
  {
   "cell_type": "code",
   "execution_count": 66,
   "metadata": {},
   "outputs": [
    {
     "name": "stdout",
     "output_type": "stream",
     "text": [
      "true grad -84.99773728746572\n",
      "method1 -85.32552098238853\n",
      "method2 -84.99565973564245\n"
     ]
    }
   ],
   "source": [
    "x0=np.random.uniform(-20, 20)\n",
    "print('true grad', grad2(x0))\n",
    "print('method1', calculate_grad(func2, x0))\n",
    "print('method2', calculate_grad2(func2, x0))"
   ]
  },
  {
   "cell_type": "code",
   "execution_count": 67,
   "metadata": {},
   "outputs": [
    {
     "data": {
      "image/png": "[encoded data removed]",
      "text/plain": [
       "<Figure size 432x288 with 1 Axes>"
      ]
     },
     "metadata": {
      "needs_background": "light"
     },
     "output_type": "display_data"
    }
   ],
   "source": [
    "plt.plot(x, func2(x))\n",
    "plt.show()"
   ]
  },
  {
   "cell_type": "code",
   "execution_count": 88,
   "metadata": {},
   "outputs": [
    {
     "name": "stdout",
     "output_type": "stream",
     "text": [
      "0 12.409739741206984 154.9442504053589\n",
      "10 11.11374548715026 177.99200375339296\n",
      "20 14.043345407880489 286.58535947911975\n",
      "30 0.14449570327017547 0.020987802020139158\n",
      "40 0.11529565656810643 0.013337216058209499\n",
      "50 0.09208351623652722 0.00849733621041391\n",
      "60 0.07358881466085394 0.005422641740761864\n",
      "70 0.05883122804646145 0.0034641073562488196\n",
      "80 0.04704462909014561 0.0022144214607764637\n",
      "90 0.037625294248491925 0.0014161637334491569\n",
      "100 0.030094909868477817 0.0009059086592669519\n",
      "110 0.02407320249653421 0.0005796030349750577\n",
      "120 0.01925716701027219 0.0003708728604938635\n",
      "130 0.015405019511463813 0.00023732870542808856\n",
      "140 0.012323650036371111 0.00015187811644866181\n",
      "150 0.00985873287048053 9.719697549060314e-05\n",
      "160 0.007886890475975185 6.220400867960321e-05\n",
      "170 0.006309463322304134 3.980972360982409e-05\n",
      "180 0.005047545540419174 2.5477878260763875e-05\n",
      "190 0.004038023572383126 1.630570083945953e-05\n",
      "200 0.0032304122736663255 1.0435590683076532e-05\n",
      "210 0.00258432644782023 6.678754340299568e-06\n",
      "220 0.0020674594322523587 4.274393071606889e-06\n",
      "230 0.0016539666620898762 2.735607590188963e-06\n",
      "240 0.0013231728772119897 1.7507872293026531e-06\n",
      "250 0.0010585380701103263 1.1205031597545217e-06\n",
      "260 0.0008468303374787857 7.17121749040281e-07\n",
      "270 0.0006774642092549996 4.5895780748205515e-07\n",
      "280 0.0005419713363112562 2.937329509527667e-07\n",
      "290 0.00043357705312952274 1.8798906983545262e-07\n",
      "300 0.0003468616343528441 1.2031299700473017e-07\n",
      "310 0.00027748930330907915 7.700031493322017e-08\n",
      "320 0.00022199144051058702 4.928020026710001e-08\n",
      "330 0.00017759315131449135 3.1539327642494115e-08\n",
      "340 0.0001420745204914762 2.0185169474743156e-08\n",
      "350 0.00011365961610640114 1.2918508375176446e-08\n",
      "360 9.092769273828964e-05 8.267845323798127e-09\n",
      "370 7.274215411545411e-05 5.291420992356261e-09\n",
      "380 5.819372325387236e-05 3.386509429015396e-09\n",
      "390 4.6554978583390524e-05 2.1673660320743188e-09\n",
      "399 3.724398285662225e-05 1.3871142595053935e-09\n"
     ]
    }
   ],
   "source": [
    "x0=np.random.uniform(-20, 20)\n",
    "alpha=0.1\n",
    "n_iter=400\n",
    "for x in range(n_iter):\n",
    "    if (x % 10 == 0) or (x == n_iter - 1):\n",
    "        print(x, x0, func2(x0))\n",
    "        x0-=alpha*grad2(x0)"
   ]
  },
  {
   "cell_type": "markdown",
   "metadata": {},
   "source": [
    "Можно сделать вывод, что с шагом alpha = 0.1 примерно после 350 итераций происходит незначительное изменение показателей. Соответственно, дынные параметры оптимальны, исходя из метода подбора. Шаг менее 0.1 приводит к большему количеству итераций, что в данном случае является излишним (минимум функции с данным шагом не будет пропущен)."
   ]
  },
  {
   "cell_type": "code",
   "execution_count": 89,
   "metadata": {},
   "outputs": [
    {
     "name": "stdout",
     "output_type": "stream",
     "text": [
      "-3.4637072310299034e-11 1.199726778228884e-21\n"
     ]
    }
   ],
   "source": [
    "class optimizer:\n",
    "    def __init__(self, alpha, n_iter):\n",
    "        self.alpha=alpha\n",
    "        self.n_iter=n_iter\n",
    "    def fit(self, func, grad, x0):\n",
    "        for i in range(self.n_iter):\n",
    "            x0-=self.alpha*grad(x0)\n",
    "        return x0\n",
    "opt1=optimizer(alpha, 100)\n",
    "x=opt1.fit(func2, grad2, np.random.uniform(-20, 20))\n",
    "print(x, func2(x))"
   ]
  },
  {
   "cell_type": "markdown",
   "metadata": {},
   "source": [
    "При данных значениях шага оптимизиция не выходит из локальных минимумов."
   ]
  },
  {
   "cell_type": "code",
   "execution_count": null,
   "metadata": {},
   "outputs": [],
   "source": []
  }
 ],
 "metadata": {
  "kernelspec": {
   "display_name": "Python 3",
   "language": "python",
   "name": "python3"
  },
  "language_info": {
   "codemirror_mode": {
    "name": "ipython",
    "version": 3
   },
   "file_extension": ".py",
   "mimetype": "text/x-python",
   "name": "python",
   "nbconvert_exporter": "python",
   "pygments_lexer": "ipython3",
   "version": "3.8.3"
  }
 },
 "nbformat": 4,
 "nbformat_minor": 4
}
